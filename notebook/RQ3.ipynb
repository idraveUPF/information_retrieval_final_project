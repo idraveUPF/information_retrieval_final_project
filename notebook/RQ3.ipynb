{
 "cells": [
  {
   "cell_type": "code",
   "execution_count": 1,
   "metadata": {},
   "outputs": [],
   "source": [
    "import networkx as nx\n",
    "import random\n",
    "import matplotlib.pyplot as plt\n",
    "import implicit\n",
    "import json"
   ]
  },
  {
   "cell_type": "code",
   "execution_count": 2,
   "metadata": {},
   "outputs": [],
   "source": [
    "INPUT_GRAPH_FILENAME = \"starwars.graphml\"\n",
    "# Read the graph in GraphML format\n",
    "g_in = nx.read_graphml(INPUT_GRAPH_FILENAME)\n",
    "\n",
    "# Re-label the nodes so they use the 'name' as label\n",
    "g_relabeled = nx.relabel.relabel_nodes(g_in, dict(g_in.nodes(data='name')))\n",
    "\n",
    "# Convert the graph to undirected\n",
    "g = g_relabeled.to_undirected()"
   ]
  },
  {
   "cell_type": "code",
   "execution_count": 7,
   "metadata": {},
   "outputs": [],
   "source": [
    "def create_user_graph(input_file):\n",
    "    graph = nx.Graph()\n",
    "    with open(input_file, 'r') as file:\n",
    "        for line in file.readlines():\n",
    "            users = json.loads(line)\n",
    "    for user in users.values():\n",
    "        graph.add_node(user['USERNAME'])\n",
    "    for user in users.values():\n",
    "        for mention in user['MENTIONS'].keys():\n",
    "            graph.add_edge(user['USERNAME'], users[mention]['USERNAME'])\n",
    "    return graph"
   ]
  },
  {
   "cell_type": "code",
   "execution_count": 8,
   "metadata": {},
   "outputs": [],
   "source": [
    "graph = create_user_graph('/home/ivan/Documents/upf/inforetrieval/finalproject/information_retrieval_final_project/res/merge_users.json')"
   ]
  },
  {
   "cell_type": "code",
   "execution_count": 18,
   "metadata": {},
   "outputs": [
    {
     "name": "stdout",
     "output_type": "stream",
     "text": [
      "(4273, 'charliekirk11')\n"
     ]
    }
   ],
   "source": [
    "print(max((d[1],d[0]) for d in graph.degree()))"
   ]
  },
  {
   "cell_type": "code",
   "execution_count": 10,
   "metadata": {},
   "outputs": [
    {
     "ename": "KeyboardInterrupt",
     "evalue": "",
     "output_type": "error",
     "traceback": [
      "\u001b[0;31m---------------------------------------------------------------------------\u001b[0m",
      "\u001b[0;31mKeyboardInterrupt\u001b[0m                         Traceback (most recent call last)",
      "\u001b[0;32m<ipython-input-10-aab217c769da>\u001b[0m in \u001b[0;36m<module>\u001b[0;34m\u001b[0m\n\u001b[1;32m      3\u001b[0m \u001b[0;34m\u001b[0m\u001b[0m\n\u001b[1;32m      4\u001b[0m \u001b[0;31m# Layout the nodes using a spring model\u001b[0m\u001b[0;34m\u001b[0m\u001b[0;34m\u001b[0m\u001b[0;34m\u001b[0m\u001b[0m\n\u001b[0;32m----> 5\u001b[0;31m \u001b[0mnx\u001b[0m\u001b[0;34m.\u001b[0m\u001b[0mdraw_spring\u001b[0m\u001b[0;34m(\u001b[0m\u001b[0mgraph\u001b[0m\u001b[0;34m,\u001b[0m \u001b[0mwith_labels\u001b[0m\u001b[0;34m=\u001b[0m\u001b[0;32mTrue\u001b[0m\u001b[0;34m)\u001b[0m\u001b[0;34m\u001b[0m\u001b[0;34m\u001b[0m\u001b[0m\n\u001b[0m\u001b[1;32m      6\u001b[0m \u001b[0;34m\u001b[0m\u001b[0m\n\u001b[1;32m      7\u001b[0m \u001b[0;31m# Display\u001b[0m\u001b[0;34m\u001b[0m\u001b[0;34m\u001b[0m\u001b[0;34m\u001b[0m\u001b[0m\n",
      "\u001b[0;32m~/.local/lib/python3.6/site-packages/networkx/drawing/nx_pylab.py\u001b[0m in \u001b[0;36mdraw_spring\u001b[0;34m(G, **kwargs)\u001b[0m\n\u001b[1;32m   1164\u001b[0m        \u001b[0mfunction\u001b[0m\u001b[0;34m.\u001b[0m\u001b[0;34m\u001b[0m\u001b[0;34m\u001b[0m\u001b[0m\n\u001b[1;32m   1165\u001b[0m     \"\"\"\n\u001b[0;32m-> 1166\u001b[0;31m     \u001b[0mdraw\u001b[0m\u001b[0;34m(\u001b[0m\u001b[0mG\u001b[0m\u001b[0;34m,\u001b[0m \u001b[0mspring_layout\u001b[0m\u001b[0;34m(\u001b[0m\u001b[0mG\u001b[0m\u001b[0;34m)\u001b[0m\u001b[0;34m,\u001b[0m \u001b[0;34m**\u001b[0m\u001b[0mkwargs\u001b[0m\u001b[0;34m)\u001b[0m\u001b[0;34m\u001b[0m\u001b[0;34m\u001b[0m\u001b[0m\n\u001b[0m\u001b[1;32m   1167\u001b[0m \u001b[0;34m\u001b[0m\u001b[0m\n\u001b[1;32m   1168\u001b[0m \u001b[0;34m\u001b[0m\u001b[0m\n",
      "\u001b[0;32m</home/ivan/.local/lib/python3.6/site-packages/decorator.py:decorator-gen-861>\u001b[0m in \u001b[0;36mfruchterman_reingold_layout\u001b[0;34m(G, k, pos, fixed, iterations, threshold, weight, scale, center, dim, seed)\u001b[0m\n",
      "\u001b[0;32m~/.local/lib/python3.6/site-packages/networkx/utils/decorators.py\u001b[0m in \u001b[0;36m_random_state\u001b[0;34m(func, *args, **kwargs)\u001b[0m\n\u001b[1;32m    406\u001b[0m         \u001b[0mnew_args\u001b[0m \u001b[0;34m=\u001b[0m \u001b[0mlist\u001b[0m\u001b[0;34m(\u001b[0m\u001b[0margs\u001b[0m\u001b[0;34m)\u001b[0m\u001b[0;34m\u001b[0m\u001b[0;34m\u001b[0m\u001b[0m\n\u001b[1;32m    407\u001b[0m         \u001b[0mnew_args\u001b[0m\u001b[0;34m[\u001b[0m\u001b[0mrandom_state_index\u001b[0m\u001b[0;34m]\u001b[0m \u001b[0;34m=\u001b[0m \u001b[0mrandom_state\u001b[0m\u001b[0;34m\u001b[0m\u001b[0;34m\u001b[0m\u001b[0m\n\u001b[0;32m--> 408\u001b[0;31m         \u001b[0;32mreturn\u001b[0m \u001b[0mfunc\u001b[0m\u001b[0;34m(\u001b[0m\u001b[0;34m*\u001b[0m\u001b[0mnew_args\u001b[0m\u001b[0;34m,\u001b[0m \u001b[0;34m**\u001b[0m\u001b[0mkwargs\u001b[0m\u001b[0;34m)\u001b[0m\u001b[0;34m\u001b[0m\u001b[0;34m\u001b[0m\u001b[0m\n\u001b[0m\u001b[1;32m    409\u001b[0m \u001b[0;34m\u001b[0m\u001b[0m\n\u001b[1;32m    410\u001b[0m     \u001b[0;32mreturn\u001b[0m \u001b[0m_random_state\u001b[0m\u001b[0;34m\u001b[0m\u001b[0;34m\u001b[0m\u001b[0m\n",
      "\u001b[0;32m~/.local/lib/python3.6/site-packages/networkx/drawing/layout.py\u001b[0m in \u001b[0;36mfruchterman_reingold_layout\u001b[0;34m(G, k, pos, fixed, iterations, threshold, weight, scale, center, dim, seed)\u001b[0m\n\u001b[1;32m    490\u001b[0m             \u001b[0mk\u001b[0m \u001b[0;34m=\u001b[0m \u001b[0mdom_size\u001b[0m \u001b[0;34m/\u001b[0m \u001b[0mnp\u001b[0m\u001b[0;34m.\u001b[0m\u001b[0msqrt\u001b[0m\u001b[0;34m(\u001b[0m\u001b[0mnnodes\u001b[0m\u001b[0;34m)\u001b[0m\u001b[0;34m\u001b[0m\u001b[0;34m\u001b[0m\u001b[0m\n\u001b[1;32m    491\u001b[0m         pos = _sparse_fruchterman_reingold(\n\u001b[0;32m--> 492\u001b[0;31m             \u001b[0mA\u001b[0m\u001b[0;34m,\u001b[0m \u001b[0mk\u001b[0m\u001b[0;34m,\u001b[0m \u001b[0mpos_arr\u001b[0m\u001b[0;34m,\u001b[0m \u001b[0mfixed\u001b[0m\u001b[0;34m,\u001b[0m \u001b[0miterations\u001b[0m\u001b[0;34m,\u001b[0m \u001b[0mthreshold\u001b[0m\u001b[0;34m,\u001b[0m \u001b[0mdim\u001b[0m\u001b[0;34m,\u001b[0m \u001b[0mseed\u001b[0m\u001b[0;34m\u001b[0m\u001b[0;34m\u001b[0m\u001b[0m\n\u001b[0m\u001b[1;32m    493\u001b[0m         )\n\u001b[1;32m    494\u001b[0m     \u001b[0;32mexcept\u001b[0m \u001b[0mValueError\u001b[0m\u001b[0;34m:\u001b[0m\u001b[0;34m\u001b[0m\u001b[0;34m\u001b[0m\u001b[0m\n",
      "\u001b[0;32m</home/ivan/.local/lib/python3.6/site-packages/decorator.py:decorator-gen-865>\u001b[0m in \u001b[0;36m_sparse_fruchterman_reingold\u001b[0;34m(A, k, pos, fixed, iterations, threshold, dim, seed)\u001b[0m\n",
      "\u001b[0;32m~/.local/lib/python3.6/site-packages/networkx/utils/decorators.py\u001b[0m in \u001b[0;36m_random_state\u001b[0;34m(func, *args, **kwargs)\u001b[0m\n\u001b[1;32m    406\u001b[0m         \u001b[0mnew_args\u001b[0m \u001b[0;34m=\u001b[0m \u001b[0mlist\u001b[0m\u001b[0;34m(\u001b[0m\u001b[0margs\u001b[0m\u001b[0;34m)\u001b[0m\u001b[0;34m\u001b[0m\u001b[0;34m\u001b[0m\u001b[0m\n\u001b[1;32m    407\u001b[0m         \u001b[0mnew_args\u001b[0m\u001b[0;34m[\u001b[0m\u001b[0mrandom_state_index\u001b[0m\u001b[0;34m]\u001b[0m \u001b[0;34m=\u001b[0m \u001b[0mrandom_state\u001b[0m\u001b[0;34m\u001b[0m\u001b[0;34m\u001b[0m\u001b[0m\n\u001b[0;32m--> 408\u001b[0;31m         \u001b[0;32mreturn\u001b[0m \u001b[0mfunc\u001b[0m\u001b[0;34m(\u001b[0m\u001b[0;34m*\u001b[0m\u001b[0mnew_args\u001b[0m\u001b[0;34m,\u001b[0m \u001b[0;34m**\u001b[0m\u001b[0mkwargs\u001b[0m\u001b[0;34m)\u001b[0m\u001b[0;34m\u001b[0m\u001b[0;34m\u001b[0m\u001b[0m\n\u001b[0m\u001b[1;32m    409\u001b[0m \u001b[0;34m\u001b[0m\u001b[0m\n\u001b[1;32m    410\u001b[0m     \u001b[0;32mreturn\u001b[0m \u001b[0m_random_state\u001b[0m\u001b[0;34m\u001b[0m\u001b[0;34m\u001b[0m\u001b[0m\n",
      "\u001b[0;32m~/.local/lib/python3.6/site-packages/networkx/drawing/layout.py\u001b[0m in \u001b[0;36m_sparse_fruchterman_reingold\u001b[0;34m(A, k, pos, fixed, iterations, threshold, dim, seed)\u001b[0m\n\u001b[1;32m    636\u001b[0m             \u001b[0;31m# displacement \"force\"\u001b[0m\u001b[0;34m\u001b[0m\u001b[0;34m\u001b[0m\u001b[0;34m\u001b[0m\u001b[0m\n\u001b[1;32m    637\u001b[0m             displacement[:, i] += (\n\u001b[0;32m--> 638\u001b[0;31m                 \u001b[0mdelta\u001b[0m \u001b[0;34m*\u001b[0m \u001b[0;34m(\u001b[0m\u001b[0mk\u001b[0m \u001b[0;34m*\u001b[0m \u001b[0mk\u001b[0m \u001b[0;34m/\u001b[0m \u001b[0mdistance\u001b[0m \u001b[0;34m**\u001b[0m \u001b[0;36m2\u001b[0m \u001b[0;34m-\u001b[0m \u001b[0mAi\u001b[0m \u001b[0;34m*\u001b[0m \u001b[0mdistance\u001b[0m \u001b[0;34m/\u001b[0m \u001b[0mk\u001b[0m\u001b[0;34m)\u001b[0m\u001b[0;34m\u001b[0m\u001b[0;34m\u001b[0m\u001b[0m\n\u001b[0m\u001b[1;32m    639\u001b[0m             ).sum(axis=1)\n\u001b[1;32m    640\u001b[0m         \u001b[0;31m# update positions\u001b[0m\u001b[0;34m\u001b[0m\u001b[0;34m\u001b[0m\u001b[0;34m\u001b[0m\u001b[0m\n",
      "\u001b[0;31mKeyboardInterrupt\u001b[0m: "
     ]
    },
    {
     "data": {
      "text/plain": [
       "<Figure size 1440x720 with 0 Axes>"
      ]
     },
     "metadata": {},
     "output_type": "display_data"
    }
   ],
   "source": [
    "# Create a plot of 20x10\n",
    "plt.figure(figsize=(20,10))\n",
    "\n",
    "# Layout the nodes using a spring model\n",
    "nx.draw_spring(graph, with_labels=True)\n",
    "\n",
    "# Display\n",
    "_ = plt.show()"
   ]
  },
  {
   "cell_type": "code",
   "execution_count": 3,
   "metadata": {},
   "outputs": [],
   "source": [
    "def split_graph(graph, p_test):\n",
    "    E_test = int(len(graph.edges) * p_test)\n",
    "    test_edge_list_split = random.sample(graph.edges(), E_test)\n",
    "    test_edge_list = list(test_edge_list_split)\n",
    "    # Remove some edges\n",
    "    training_graph = graph.copy()\n",
    "    training_graph.remove_edges_from(test_edge_list_split)\n",
    "    test_graph = nx.Graph()\n",
    "    test_graph.add_edges_from(test_edge_list)\n",
    "    return training_graph, test_graph"
   ]
  },
  {
   "cell_type": "code",
   "execution_count": 4,
   "metadata": {},
   "outputs": [
    {
     "data": {
      "text/plain": [
       "EdgeView([('BOSS NASS', 'DARTH VADER'), ('BOSS NASS', 'OBI-WAN'), ('DARTH VADER', 'LEIA'), ('DARTH VADER', 'WATTO'), ('DARTH VADER', 'BRAVO THREE'), ('DARTH VADER', 'JOBAL'), ('DARTH VADER', 'JERJERROD'), ('DARTH VADER', 'GREEDO'), ('DARTH VADER', 'PIETT'), ('DARTH VADER', 'SUN RIT'), ('DARTH VADER', 'KITSTER'), ('DARTH VADER', 'SEBULBA'), ('DARTH VADER', 'SHMI'), ('DARTH VADER', 'OZZEL'), ('DARTH VADER', 'MACE WINDU'), ('DARTH VADER', 'CAPTAIN PANAKA'), ('WATTO', 'R2-D2'), ('WATTO', 'KITSTER'), ('R2-D2', 'BAIL ORGANA'), ('R2-D2', 'C-3PO'), ('R2-D2', 'LEIA'), ('R2-D2', 'CAPTAIN ANTILLES'), ('LEIA', 'C-3PO'), ('LEIA', 'REY'), ('LANDO', 'BOBA FETT'), ('LANDO', 'ADMIRAL ACKBAR'), ('LANDO', 'WEDGE'), ('BOBA FETT', 'PIETT'), ('BIB FORTUNA', 'JABBA'), ('JABBA', 'SEBULBA'), ('JABBA', 'CHEWBACCA'), ('JABBA', 'PADME'), ('YODA', 'PADME'), ('YODA', 'KI-ADI-MUNDI'), ('YODA', 'JAR JAR'), ('PADME', 'COUNT DOOKU'), ('PADME', 'NUTE GUNRAY'), ('PADME', 'JAR JAR'), ('PADME', 'CLIEGG'), ('SNOKE', 'GENERAL HUX'), ('SNOKE', 'KYLO REN'), ('GENERAL HUX', 'KYLO REN'), ('GENERAL HUX', 'COLONEL DATOO'), ('KI-ADI-MUNDI', 'OBI-WAN'), ('KI-ADI-MUNDI', 'EMPEROR'), ('KI-ADI-MUNDI', 'BAIL ORGANA'), ('OBI-WAN', 'TC-14'), ('OBI-WAN', 'LAMA SU'), ('OBI-WAN', 'NUTE GUNRAY'), ('OBI-WAN', 'SUN RIT'), ('YOLO ZIFF', 'NIV LEK'), ('SNAP', 'HAN'), ('HAN', 'CHEWBACCA'), ('HAN', 'RIEEKAN'), ('HAN', 'KYLO REN'), ('VALORUM', 'BAIL ORGANA'), ('BAIL ORGANA', 'C-3PO'), ('BAIL ORGANA', 'SENATOR ASK AAK'), ('BAIL ORGANA', 'CAPTAIN ANTILLES'), ('BAIL ORGANA', 'MACE WINDU'), ('MAZ', 'CHEWBACCA'), ('CHEWBACCA', 'C-3PO'), ('TEY HOW', 'NUTE GUNRAY'), ('NUTE GUNRAY', 'DARTH MAUL'), ('NUTE GUNRAY', 'RUNE'), ('BRAVO THREE', 'BRAVO TWO'), ('BRAVO THREE', 'RIC OLIE'), ('JAR JAR', 'SEBULBA'), ('ELLO ASTY', 'POE'), ('POE', 'JESS'), ('POE', 'C-3PO'), ('C-3PO', 'CAPTAIN TYPHO'), ('C-3PO', 'ADMIRAL ACKBAR'), ('C-3PO', 'CAPTAIN ANTILLES'), ('C-3PO', 'CLIEGG'), ('C-3PO', 'MON MOTHMA'), ('SENATOR ASK AAK', 'ORN FREE TAA'), ('EMPEROR', 'RUNE'), ('RIC OLIE', 'CAPTAIN PANAKA'), ('MACE WINDU', 'QUI-GON'), ('QUI-GON', 'GREEDO'), ('CAPTAIN PHASMA', 'KYLO REN'), ('KYLO REN', 'FINN'), ('PIETT', 'OZZEL'), ('JANSON', 'WEDGE'), ('BALA-TIK', 'FINN'), ('SUN RIT', 'POGGLE'), ('DODONNA', 'LUKE')])"
      ]
     },
     "execution_count": 4,
     "metadata": {},
     "output_type": "execute_result"
    }
   ],
   "source": [
    "train, test = split_graph(g, 0.20)\n",
    "test.edges()"
   ]
  },
  {
   "cell_type": "code",
   "execution_count": 31,
   "metadata": {},
   "outputs": [],
   "source": [
    "def pagerank(g_train, g_test):\n",
    "    recommendations = {}\n",
    "    N_test = len(g_test.nodes())\n",
    "    pr = nx.pagerank(g_train,personalization={node: 1/N_test for node in g_test.nodes()})\n",
    "    return pr\n",
    "\n",
    "def pagerank2(g_train, g_test):\n",
    "    recommendations = {}\n",
    "    N_test = len(g_test.nodes())\n",
    "    score = {}\n",
    "    for node in g_test.nodes():\n",
    "        score[node] = nx.pagerank(g_train,personalization={node: 1})\n",
    "    return score"
   ]
  },
  {
   "cell_type": "code",
   "execution_count": 5,
   "metadata": {},
   "outputs": [],
   "source": [
    "def friends_of_friends(start, graph):\n",
    "    friends1 = set(graph.neighbors(start))\n",
    "    friends = set(friends1)\n",
    "    for friend in friends1:\n",
    "        friends = friends.union(set(graph.neighbors(friend)))\n",
    "    friends.remove(start)\n",
    "    return friends"
   ]
  },
  {
   "cell_type": "code",
   "execution_count": 20,
   "metadata": {},
   "outputs": [],
   "source": [
    "def adamic_adar(g_train, g_test, graph, K=10):\n",
    "    edges = set()\n",
    "    for node in g_test.nodes():\n",
    "        edges = edges.union({(node, friend) for friend in friends_of_friends(node, graph)})\n",
    "    preds = nx.adamic_adar_index(g_train, list(edges))\n",
    "    recommendation = {}\n",
    "    for u, v, p in preds:\n",
    "        if u not in recommendation:\n",
    "            recommendation[u] = []\n",
    "        recommendation[u].append((v, p))\n",
    "    for u, rank in recommendation.items():\n",
    "        rank.sort(key=lambda x: x[1], reverse=True)\n",
    "        recommendation[u] = rank[:K]\n",
    "    return recommendation"
   ]
  },
  {
   "cell_type": "code",
   "execution_count": 18,
   "metadata": {},
   "outputs": [],
   "source": [
    "def als(g_train, g_test, graph, K=10):\n",
    "    als = implicit.als.AlternatingLeastSquares()\n",
    "    als.fit(nx.adjacency_matrix(g_train, nodelist=graph.nodes()))\n",
    "    index = {node:i for i, node in enumerate(graph.nodes())}\n",
    "    A = nx.adjacency_matrix(graph)\n",
    "    recommendations = {}\n",
    "    for node in g_test.nodes():\n",
    "        ff = [index[friend] for friend in friends_of_friends(node, graph)]\n",
    "        rank = als.rank_items(index[node], A, ff)\n",
    "        recommendations[node] = [(list(graph.nodes())[i], score) for i, score in rank[:K]]\n",
    "    return recommendations\n",
    "    "
   ]
  },
  {
   "cell_type": "code",
   "execution_count": 7,
   "metadata": {},
   "outputs": [],
   "source": [
    "def get_recommendations(start, graph, score, K=10):\n",
    "    friends = friends_of_friends(start, graph)\n",
    "    node_scores = [(node, score[node]) for node in friends]\n",
    "    node_scores.sort(key=lambda x: x[1], reverse=True)\n",
    "    return node_scores[:K]\n",
    "\n",
    "def get_recommendations2(start, graph, score, K=10):\n",
    "    friends1 = set(graph.neighbors(start))\n",
    "    friends = set(friends1)\n",
    "    for friend in friends1:\n",
    "        friends = friends.union(set(graph.neighbors(friend)))\n",
    "    score = score[start]\n",
    "    node_scores = [(node, score.get(node, 0)) for node in friends]\n",
    "    node_scores.sort(key=lambda x: x[1], reverse=True)\n",
    "    return node_scores[:K]"
   ]
  },
  {
   "cell_type": "code",
   "execution_count": 53,
   "metadata": {},
   "outputs": [],
   "source": []
  },
  {
   "cell_type": "code",
   "execution_count": 35,
   "metadata": {},
   "outputs": [
    {
     "name": "stdout",
     "output_type": "stream",
     "text": [
      "[('WEDGE', 0.2024177390994998), ('LUKE', 0.0790492527302739), ('RED LEADER', 0.05317268797632009), ('BIGGS', 0.053075743819224135), ('GOLD LEADER', 0.049728302934720275), ('LANDO', 0.03695265572866173), ('C-3PO', 0.032062411480177244), ('LEIA', 0.03112672050272453), ('JANSON', 0.0286755444920918), ('DARTH VADER', 0.026761151543075398)]\n"
     ]
    }
   ],
   "source": [
    "pr = pagerank2(train, test)\n",
    "print(get_recommendations2('WEDGE', g, pr))"
   ]
  },
  {
   "cell_type": "code",
   "execution_count": 38,
   "metadata": {},
   "outputs": [
    {
     "name": "stdout",
     "output_type": "stream",
     "text": [
      "[('REY', 0.1869276305857914), ('HAN', 0.06491625738022659), ('BB-8', 0.054804548997142884), ('CHEWBACCA', 0.048095885615836276), ('LEIA', 0.04645703175526083), ('KYLO REN', 0.039809350884978695), ('MAZ', 0.03161320772572484), ('BALA-TIK', 0.029539244743756674), ('C-3PO', 0.02941091312742053), ('DARTH VADER', 0.02460320951349331)]\n"
     ]
    }
   ],
   "source": [
    "print(get_recommendations2('REY', g, pr))"
   ]
  },
  {
   "cell_type": "code",
   "execution_count": 21,
   "metadata": {},
   "outputs": [
    {
     "data": {
      "text/plain": [
       "[('BB-8', 3.980604512377299),\n",
       " ('HAN', 2.558221716932459),\n",
       " ('CHEWBACCA', 2.458209131047589),\n",
       " ('POE', 2.1189789695408288),\n",
       " ('FINN', 1.816561951043854),\n",
       " ('LEIA', 1.8083115022610228),\n",
       " ('C-3PO', 1.4390421291921678),\n",
       " ('R2-D2', 1.405881897879178),\n",
       " ('MAZ', 1.1283746619123618),\n",
       " ('BALA-TIK', 1.095214430599372)]"
      ]
     },
     "execution_count": 21,
     "metadata": {},
     "output_type": "execute_result"
    }
   ],
   "source": [
    "adamic = adamic_adar(train, test, g)\n",
    "adamic['REY']"
   ]
  },
  {
   "cell_type": "code",
   "execution_count": 19,
   "metadata": {},
   "outputs": [
    {
     "data": {
      "application/vnd.jupyter.widget-view+json": {
       "model_id": "5a63a68c244a4cfa9f41ff0bcd5ab408",
       "version_major": 2,
       "version_minor": 0
      },
      "text/plain": [
       "HBox(children=(FloatProgress(value=0.0, max=15.0), HTML(value='')))"
      ]
     },
     "metadata": {},
     "output_type": "display_data"
    },
    {
     "name": "stdout",
     "output_type": "stream",
     "text": [
      "\n"
     ]
    },
    {
     "data": {
      "text/plain": [
       "[('UNKAR PLUTT', 1.0073328),\n",
       " ('KYLO REN', 1.0067617),\n",
       " ('HAN', 1.0047128),\n",
       " ('FINN', 1.003191),\n",
       " ('CHEWBACCA', 1.0013889),\n",
       " ('LUKE', 1.0000231),\n",
       " ('BALA-TIK', 0.9961901),\n",
       " ('MAZ', 0.990245),\n",
       " ('BB-8', 0.98687637),\n",
       " ('CAPTAIN PHASMA', 0.01638712)]"
      ]
     },
     "execution_count": 19,
     "metadata": {},
     "output_type": "execute_result"
    }
   ],
   "source": [
    "als_recom = als(train, test, g)\n",
    "als_recom['BB-8']"
   ]
  },
  {
   "cell_type": "code",
   "execution_count": 25,
   "metadata": {},
   "outputs": [
    {
     "data": {
      "text/plain": [
       "[('DARTH MAUL', 1.0104179),\n",
       " ('NUTE GUNRAY', 1.0040338),\n",
       " ('CAPTAIN PANAKA', 1.004005),\n",
       " ('MACE WINDU', 1.0039134),\n",
       " ('COUNT DOOKU', 1.0038819),\n",
       " ('LUKE', 1.0037434),\n",
       " ('BAIL ORGANA', 1.0034322),\n",
       " ('DARTH VADER', 1.0019405),\n",
       " ('PADME', 1.0017262),\n",
       " ('R2-D2', 1.0012969)]"
      ]
     },
     "execution_count": 25,
     "metadata": {},
     "output_type": "execute_result"
    }
   ],
   "source": [
    "als_recom['EMPEROR']"
   ]
  },
  {
   "cell_type": "code",
   "execution_count": 3,
   "metadata": {},
   "outputs": [],
   "source": [
    "g = nx.Graph()\n",
    "g.add_edges_from([(1, 2), (1, 3)])"
   ]
  },
  {
   "cell_type": "code",
   "execution_count": 5,
   "metadata": {},
   "outputs": [
    {
     "data": {
      "text/plain": [
       "NodeView((1, 2, 3))"
      ]
     },
     "execution_count": 5,
     "metadata": {},
     "output_type": "execute_result"
    }
   ],
   "source": [
    "g.nodes()"
   ]
  }
 ],
 "metadata": {
  "kernelspec": {
   "display_name": "Python 3",
   "language": "python",
   "name": "python3"
  },
  "language_info": {
   "codemirror_mode": {
    "name": "ipython",
    "version": 3
   },
   "file_extension": ".py",
   "mimetype": "text/x-python",
   "name": "python",
   "nbconvert_exporter": "python",
   "pygments_lexer": "ipython3",
   "version": "3.6.9"
  }
 },
 "nbformat": 4,
 "nbformat_minor": 2
}
